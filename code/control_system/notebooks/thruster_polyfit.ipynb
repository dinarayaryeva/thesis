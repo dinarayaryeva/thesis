{
  "cells": [
    {
      "cell_type": "markdown",
      "metadata": {
        "id": "yXoOCK3CvxoY"
      },
      "source": [
        "# **T200 Thruster Polyfit**\n",
        "\n",
        "The T200 is a more powerful version of the T100 Thruster. Great for powering larger ROVs, AUVs, and surface vessels.\n",
        "[Check here for more info.](https://www.bluerobotics.com/store/thrusters/t200-thruster/)\n",
        "\n",
        "\n",
        "## Goal\n",
        "Define an equation to relate thrust (kgf) with pwm, util for simulation and mathematical models. \\\\\n",
        "Example (fifth order linear fitting): \\\\\n",
        "$x = pwm$ \\\\\n",
        "$kgf_{16V} = $$- 3.04338931856672 \\cdot 10^{-13} x^{5} + 2.27813523978448 \\cdot 10^{-9} x^{4} - 6.73710647138884 \\cdot 10^{-6} x^{3} + 0.00983670053385902 x^{2} - 7.08023833982539 x + 2003.55692021905$\n",
        "\n",
        "\n",
        "## TODO\n",
        "- Voltage decaiment compensation\n",
        "- Nonlinear fuzzy fitting\n",
        "\n",
        "\n",
        "---\n",
        "This work is based on the data contained [here](http://docs.bluerobotics.com/thrusters/t200/#performance-charts).\n",
        "\n"
      ]
    },
    {
      "cell_type": "code",
      "execution_count": 2,
      "metadata": {
        "id": "Ql5n1q35KBLY"
      },
      "outputs": [
        {
          "data": {
            "text/html": [
              "<div>\n",
              "<style scoped>\n",
              "    .dataframe tbody tr th:only-of-type {\n",
              "        vertical-align: middle;\n",
              "    }\n",
              "\n",
              "    .dataframe tbody tr th {\n",
              "        vertical-align: top;\n",
              "    }\n",
              "\n",
              "    .dataframe thead th {\n",
              "        text-align: right;\n",
              "    }\n",
              "</style>\n",
              "<table border=\"1\" class=\"dataframe\">\n",
              "  <thead>\n",
              "    <tr style=\"text-align: right;\">\n",
              "      <th></th>\n",
              "      <th>thrust 16V</th>\n",
              "      <th>rpm 16V</th>\n",
              "      <th>power 16V</th>\n",
              "      <th>current 16V</th>\n",
              "      <th>voltage 16V</th>\n",
              "      <th>pwm 16V</th>\n",
              "      <th>thrust (kgf) 16V</th>\n",
              "      <th>efficiency (g/w) 16V</th>\n",
              "      <th>thrust 12V</th>\n",
              "      <th>rpm 12V</th>\n",
              "      <th>power 12V</th>\n",
              "      <th>current 12V</th>\n",
              "      <th>voltage 12V</th>\n",
              "      <th>pwm 12V</th>\n",
              "      <th>thrust (kgf) 12V</th>\n",
              "      <th>efficiency (g/w) 12V</th>\n",
              "    </tr>\n",
              "  </thead>\n",
              "  <tbody>\n",
              "    <tr>\n",
              "      <th>0</th>\n",
              "      <td>-9.00</td>\n",
              "      <td>3200</td>\n",
              "      <td>344.48</td>\n",
              "      <td>21.53</td>\n",
              "      <td>14.98</td>\n",
              "      <td>1100</td>\n",
              "      <td>-4.082336</td>\n",
              "      <td>11.850720</td>\n",
              "      <td>-6.62</td>\n",
              "      <td>2960</td>\n",
              "      <td>182.20</td>\n",
              "      <td>15.40</td>\n",
              "      <td>11.83</td>\n",
              "      <td>1100</td>\n",
              "      <td>-3.002785</td>\n",
              "      <td>16.480708</td>\n",
              "    </tr>\n",
              "    <tr>\n",
              "      <th>1</th>\n",
              "      <td>-8.90</td>\n",
              "      <td>2767</td>\n",
              "      <td>341.92</td>\n",
              "      <td>21.37</td>\n",
              "      <td>15.25</td>\n",
              "      <td>1110</td>\n",
              "      <td>-4.082336</td>\n",
              "      <td>11.939448</td>\n",
              "      <td>-6.58</td>\n",
              "      <td>2870</td>\n",
              "      <td>181.03</td>\n",
              "      <td>15.19</td>\n",
              "      <td>11.92</td>\n",
              "      <td>1110</td>\n",
              "      <td>-2.984641</td>\n",
              "      <td>16.486999</td>\n",
              "    </tr>\n",
              "    <tr>\n",
              "      <th>2</th>\n",
              "      <td>-8.70</td>\n",
              "      <td>3245</td>\n",
              "      <td>328.96</td>\n",
              "      <td>20.56</td>\n",
              "      <td>15.33</td>\n",
              "      <td>1120</td>\n",
              "      <td>-4.086872</td>\n",
              "      <td>12.423614</td>\n",
              "      <td>-6.34</td>\n",
              "      <td>2837</td>\n",
              "      <td>169.05</td>\n",
              "      <td>14.25</td>\n",
              "      <td>11.86</td>\n",
              "      <td>1120</td>\n",
              "      <td>-2.875779</td>\n",
              "      <td>17.011411</td>\n",
              "    </tr>\n",
              "    <tr>\n",
              "      <th>3</th>\n",
              "      <td>-8.44</td>\n",
              "      <td>3269</td>\n",
              "      <td>305.12</td>\n",
              "      <td>19.07</td>\n",
              "      <td>15.35</td>\n",
              "      <td>1130</td>\n",
              "      <td>-3.828324</td>\n",
              "      <td>12.546946</td>\n",
              "      <td>-6.09</td>\n",
              "      <td>2784</td>\n",
              "      <td>160.31</td>\n",
              "      <td>13.48</td>\n",
              "      <td>11.89</td>\n",
              "      <td>1130</td>\n",
              "      <td>-2.762381</td>\n",
              "      <td>17.231494</td>\n",
              "    </tr>\n",
              "    <tr>\n",
              "      <th>4</th>\n",
              "      <td>-8.23</td>\n",
              "      <td>3269</td>\n",
              "      <td>289.12</td>\n",
              "      <td>18.07</td>\n",
              "      <td>15.35</td>\n",
              "      <td>1140</td>\n",
              "      <td>-3.733070</td>\n",
              "      <td>12.911835</td>\n",
              "      <td>-5.80</td>\n",
              "      <td>2750</td>\n",
              "      <td>146.97</td>\n",
              "      <td>12.38</td>\n",
              "      <td>11.87</td>\n",
              "      <td>1140</td>\n",
              "      <td>-2.630839</td>\n",
              "      <td>17.900516</td>\n",
              "    </tr>\n",
              "    <tr>\n",
              "      <th>...</th>\n",
              "      <td>...</td>\n",
              "      <td>...</td>\n",
              "      <td>...</td>\n",
              "      <td>...</td>\n",
              "      <td>...</td>\n",
              "      <td>...</td>\n",
              "      <td>...</td>\n",
              "      <td>...</td>\n",
              "      <td>...</td>\n",
              "      <td>...</td>\n",
              "      <td>...</td>\n",
              "      <td>...</td>\n",
              "      <td>...</td>\n",
              "      <td>...</td>\n",
              "      <td>...</td>\n",
              "      <td>...</td>\n",
              "    </tr>\n",
              "    <tr>\n",
              "      <th>76</th>\n",
              "      <td>9.65</td>\n",
              "      <td>3317</td>\n",
              "      <td>267.84</td>\n",
              "      <td>16.74</td>\n",
              "      <td>15.33</td>\n",
              "      <td>1860</td>\n",
              "      <td>4.377172</td>\n",
              "      <td>16.342486</td>\n",
              "      <td>6.58</td>\n",
              "      <td>2802</td>\n",
              "      <td>145.51</td>\n",
              "      <td>12.18</td>\n",
              "      <td>11.94</td>\n",
              "      <td>1860</td>\n",
              "      <td>2.984641</td>\n",
              "      <td>20.511589</td>\n",
              "    </tr>\n",
              "    <tr>\n",
              "      <th>77</th>\n",
              "      <td>10.07</td>\n",
              "      <td>2539</td>\n",
              "      <td>283.52</td>\n",
              "      <td>17.72</td>\n",
              "      <td>15.33</td>\n",
              "      <td>1870</td>\n",
              "      <td>4.567681</td>\n",
              "      <td>16.110612</td>\n",
              "      <td>6.95</td>\n",
              "      <td>2874</td>\n",
              "      <td>156.08</td>\n",
              "      <td>13.06</td>\n",
              "      <td>11.95</td>\n",
              "      <td>1870</td>\n",
              "      <td>3.152471</td>\n",
              "      <td>20.197788</td>\n",
              "    </tr>\n",
              "    <tr>\n",
              "      <th>78</th>\n",
              "      <td>10.59</td>\n",
              "      <td>2343</td>\n",
              "      <td>301.60</td>\n",
              "      <td>18.85</td>\n",
              "      <td>15.32</td>\n",
              "      <td>1880</td>\n",
              "      <td>4.803549</td>\n",
              "      <td>15.926886</td>\n",
              "      <td>7.36</td>\n",
              "      <td>2915</td>\n",
              "      <td>166.98</td>\n",
              "      <td>13.96</td>\n",
              "      <td>11.96</td>\n",
              "      <td>1880</td>\n",
              "      <td>3.338444</td>\n",
              "      <td>19.993076</td>\n",
              "    </tr>\n",
              "    <tr>\n",
              "      <th>79</th>\n",
              "      <td>10.80</td>\n",
              "      <td>2315</td>\n",
              "      <td>324.32</td>\n",
              "      <td>20.27</td>\n",
              "      <td>15.31</td>\n",
              "      <td>1890</td>\n",
              "      <td>4.898803</td>\n",
              "      <td>15.104845</td>\n",
              "      <td>7.66</td>\n",
              "      <td>2956</td>\n",
              "      <td>176.44</td>\n",
              "      <td>14.79</td>\n",
              "      <td>11.93</td>\n",
              "      <td>1890</td>\n",
              "      <td>3.474522</td>\n",
              "      <td>19.692370</td>\n",
              "    </tr>\n",
              "    <tr>\n",
              "      <th>80</th>\n",
              "      <td>11.23</td>\n",
              "      <td>2346</td>\n",
              "      <td>340.16</td>\n",
              "      <td>21.26</td>\n",
              "      <td>15.24</td>\n",
              "      <td>1900</td>\n",
              "      <td>5.093848</td>\n",
              "      <td>14.974860</td>\n",
              "      <td>7.79</td>\n",
              "      <td>2998</td>\n",
              "      <td>178.22</td>\n",
              "      <td>14.91</td>\n",
              "      <td>11.95</td>\n",
              "      <td>1900</td>\n",
              "      <td>3.533489</td>\n",
              "      <td>19.826556</td>\n",
              "    </tr>\n",
              "  </tbody>\n",
              "</table>\n",
              "<p>81 rows × 16 columns</p>\n",
              "</div>"
            ],
            "text/plain": [
              "    thrust 16V  rpm 16V  power 16V  current 16V  voltage 16V  pwm 16V  \\\n",
              "0        -9.00     3200     344.48        21.53        14.98     1100   \n",
              "1        -8.90     2767     341.92        21.37        15.25     1110   \n",
              "2        -8.70     3245     328.96        20.56        15.33     1120   \n",
              "3        -8.44     3269     305.12        19.07        15.35     1130   \n",
              "4        -8.23     3269     289.12        18.07        15.35     1140   \n",
              "..         ...      ...        ...          ...          ...      ...   \n",
              "76        9.65     3317     267.84        16.74        15.33     1860   \n",
              "77       10.07     2539     283.52        17.72        15.33     1870   \n",
              "78       10.59     2343     301.60        18.85        15.32     1880   \n",
              "79       10.80     2315     324.32        20.27        15.31     1890   \n",
              "80       11.23     2346     340.16        21.26        15.24     1900   \n",
              "\n",
              "    thrust (kgf) 16V  efficiency (g/w) 16V  thrust 12V  rpm 12V  power 12V  \\\n",
              "0          -4.082336             11.850720       -6.62     2960     182.20   \n",
              "1          -4.082336             11.939448       -6.58     2870     181.03   \n",
              "2          -4.086872             12.423614       -6.34     2837     169.05   \n",
              "3          -3.828324             12.546946       -6.09     2784     160.31   \n",
              "4          -3.733070             12.911835       -5.80     2750     146.97   \n",
              "..               ...                   ...         ...      ...        ...   \n",
              "76          4.377172             16.342486        6.58     2802     145.51   \n",
              "77          4.567681             16.110612        6.95     2874     156.08   \n",
              "78          4.803549             15.926886        7.36     2915     166.98   \n",
              "79          4.898803             15.104845        7.66     2956     176.44   \n",
              "80          5.093848             14.974860        7.79     2998     178.22   \n",
              "\n",
              "    current 12V  voltage 12V  pwm 12V  thrust (kgf) 12V  efficiency (g/w) 12V  \n",
              "0         15.40        11.83     1100         -3.002785             16.480708  \n",
              "1         15.19        11.92     1110         -2.984641             16.486999  \n",
              "2         14.25        11.86     1120         -2.875779             17.011411  \n",
              "3         13.48        11.89     1130         -2.762381             17.231494  \n",
              "4         12.38        11.87     1140         -2.630839             17.900516  \n",
              "..          ...          ...      ...               ...                   ...  \n",
              "76        12.18        11.94     1860          2.984641             20.511589  \n",
              "77        13.06        11.95     1870          3.152471             20.197788  \n",
              "78        13.96        11.96     1880          3.338444             19.993076  \n",
              "79        14.79        11.93     1890          3.474522             19.692370  \n",
              "80        14.91        11.95     1900          3.533489             19.826556  \n",
              "\n",
              "[81 rows x 16 columns]"
            ]
          },
          "execution_count": 2,
          "metadata": {},
          "output_type": "execute_result"
        }
      ],
      "source": [
        "import matplotlib.pyplot as plt\n",
        "import pandas as pd\n",
        "from urllib.request import urlopen\n",
        "\n",
        "\n",
        "# Download last data available of T200\n",
        "url = 'https://gist.githubusercontent.com/patrickelectric/afaf043af8b1e796980f4beae8f0543d/raw/9a2cce5d376eb784c66f883f05f8aeaa68f655f9/t200.csv'\n",
        "response = urlopen(url)\n",
        "csv = pd.read_csv(response)\n",
        "\n",
        "# Print the table\n",
        "csv"
      ]
    },
    {
      "cell_type": "code",
      "execution_count": 3,
      "metadata": {
        "colab": {
          "base_uri": "https://localhost:8080/",
          "height": 449
        },
        "id": "Mf3t2pw79ePG",
        "outputId": "6c06376a-b2d1-439c-ad65-85cf932e2f7e"
      },
      "outputs": [
        {
          "data": {
            "image/png": "[encoded data removed]",
            "text/plain": [
              "<Figure size 640x480 with 1 Axes>"
            ]
          },
          "metadata": {},
          "output_type": "display_data"
        }
      ],
      "source": [
        "# Fit data\n",
        "import numpy as np\n",
        "\n",
        "\n",
        "# Do a linear fifth order fitting\n",
        "pwm = csv['pwm 16V'].tolist()\n",
        "pwm = pwm[5:-5]\n",
        "thrust = csv['thrust (kgf) 16V'].tolist()\n",
        "thrust = thrust[5:-5]\n",
        "for i in range(len(pwm)):\n",
        "  if(pwm[i] < 1500):\n",
        "    thrust[i] = - thrust[i]\n",
        "\n",
        "coefs = np.polyfit(pwm, thrust, 5)\n",
        "\n",
        "# Plot the result\n",
        "ffit = np.polyval(coefs, pwm)\n",
        "plt.plot(pwm, ffit)\n",
        "plt.plot(pwm, thrust)\n",
        "plt.ylabel('Thrust');\n",
        "plt.xlabel('PWM');"
      ]
    },
    {
      "cell_type": "code",
      "execution_count": 4,
      "metadata": {
        "id": "bV1rvPVqsKZy"
      },
      "outputs": [],
      "source": [
        "for label in ['thrust (kgf) 16V', 'pwm 16V']:\n",
        "  csv[label] = (csv[label]-csv[label].mean())/csv[label].std()"
      ]
    },
    {
      "cell_type": "code",
      "execution_count": 5,
      "metadata": {
        "colab": {
          "base_uri": "https://localhost:8080/",
          "height": 466
        },
        "id": "q-9ZgqZO8QBt",
        "outputId": "8fc12aac-648c-48f3-e5ed-d6c8a424a732"
      },
      "outputs": [
        {
          "name": "stdout",
          "output_type": "stream",
          "text": [
            "RMS is 0.13665507623666218\n"
          ]
        },
        {
          "data": {
            "image/png": "[encoded data removed]",
            "text/plain": [
              "<Figure size 640x480 with 1 Axes>"
            ]
          },
          "metadata": {},
          "output_type": "display_data"
        }
      ],
      "source": [
        "# Fit data\n",
        "import numpy as np\n",
        "\n",
        "\n",
        "# Do a linear fifth order fitting\n",
        "pwm = csv['pwm 16V'].tolist()\n",
        "thrust = csv['thrust (kgf) 16V'].tolist()\n",
        "\n",
        "# for i in range(len(pwm)):\n",
        "#   if(pwm[i] < 0):\n",
        "#     thrust[i] = -thrust[i]\n",
        "\n",
        "coefs = np.polyfit(pwm, thrust, 5)\n",
        "\n",
        "# Plot the result\n",
        "ffit = np.polyval(coefs, pwm)\n",
        "plt.plot(pwm, ffit)\n",
        "plt.plot(pwm, thrust)\n",
        "plt.ylabel('Thrust');\n",
        "plt.xlabel('PWM');\n",
        "\n",
        "# Calcule RMS\n",
        "RMS = np.sqrt(((ffit - csv['pwm 16V'].tolist()) ** 2).mean())\n",
        "# Less than 1 is good !\n",
        "print(\"RMS is {0}\".format(RMS))"
      ]
    },
    {
      "cell_type": "code",
      "execution_count": 6,
      "metadata": {
        "colab": {
          "base_uri": "https://localhost:8080/",
          "height": 76
        },
        "id": "QT98MhqpyHPC",
        "outputId": "f3eab825-2414-431a-f0bd-1d4abdcc083c"
      },
      "outputs": [
        {
          "name": "stdout",
          "output_type": "stream",
          "text": [
            "-0.0886937043074986*x**5 - 0.00545877001704709*x**4 + 0.442695591285139*x**3 + 0.0695613072837443*x**2 + 0.536616675414586*x - 0.059119802181461\n"
          ]
        },
        {
          "data": {
            "image/png": "[encoded data removed]",
            "text/latex": [
              "$\\displaystyle - 0.0886937043074986 x^{5} - 0.00545877001704709 x^{4} + 0.442695591285139 x^{3} + 0.0695613072837443 x^{2} + 0.536616675414586 x - 0.059119802181461$"
            ],
            "text/plain": [
              "                      5                        4                      3       \n",
              "- 0.0886937043074986⋅x  - 0.00545877001704709⋅x  + 0.442695591285139⋅x  + 0.06\n",
              "\n",
              "                2                                          \n",
              "95613072837443⋅x  + 0.536616675414586⋅x - 0.059119802181461"
            ]
          },
          "execution_count": 6,
          "metadata": {},
          "output_type": "execute_result"
        }
      ],
      "source": [
        "# Get Latex equation\n",
        "import sympy as sp\n",
        "from sympy.abc import x\n",
        "sp.init_printing()\n",
        "print(sp.Poly(np.poly1d(coefs).coef,x).as_expr())\n",
        "sp.Poly(np.poly1d(coefs).coef,x).as_expr()"
      ]
    },
    {
      "cell_type": "markdown",
      "metadata": {
        "id": "fwoLcsUMtDeV"
      },
      "source": [
        "### Inverse mapping"
      ]
    },
    {
      "cell_type": "code",
      "execution_count": 7,
      "metadata": {
        "colab": {
          "base_uri": "https://localhost:8080/",
          "height": 447
        },
        "id": "_wPN0kb7tBgx",
        "outputId": "7a22e5cd-ac0e-4331-fbfb-145587c14585"
      },
      "outputs": [
        {
          "name": "stdout",
          "output_type": "stream",
          "text": [
            "RMS is 0.07138965164415938\n"
          ]
        },
        {
          "data": {
            "image/png": "[encoded data removed]",
            "text/plain": [
              "<Figure size 640x480 with 1 Axes>"
            ]
          },
          "metadata": {},
          "output_type": "display_data"
        }
      ],
      "source": [
        "# Fit data\n",
        "import numpy as np\n",
        "\n",
        "\n",
        "# Do a linear fifth order fitting\n",
        "coefs = np.polyfit(csv['thrust (kgf) 16V'].tolist(), csv['pwm 16V'].tolist(), 5)\n",
        "\n",
        "# Plot the result\n",
        "ffit = np.polyval(coefs, csv['thrust (kgf) 16V'].tolist())\n",
        "plt.plot(csv['thrust (kgf) 16V'].tolist(), ffit)\n",
        "plt.plot(csv['thrust (kgf) 16V'].tolist(), csv['pwm 16V'].tolist())\n",
        "\n",
        "# Calcule RMS\n",
        "RMS = np.sqrt(((ffit - csv['pwm 16V'].tolist()) ** 2).mean())\n",
        "# Less than 1 is good !\n",
        "print(\"RMS is {0}\".format(RMS))"
      ]
    },
    {
      "cell_type": "code",
      "execution_count": 8,
      "metadata": {
        "colab": {
          "base_uri": "https://localhost:8080/",
          "height": 76
        },
        "id": "dGx9Xw75tkKT",
        "outputId": "24492f77-377b-4445-acf7-caeb4b9fd7f7"
      },
      "outputs": [
        {
          "name": "stdout",
          "output_type": "stream",
          "text": [
            "0.054608309216589*x**5 + 0.0043623874523217*x**4 - 0.320974346473973*x**3 - 0.0639160871326408*x**2 + 1.38048196118199*x + 0.0635708584715591\n"
          ]
        },
        {
          "data": {
            "image/png": "[encoded data removed]",
            "text/latex": [
              "$\\displaystyle 0.054608309216589 x^{5} + 0.0043623874523217 x^{4} - 0.320974346473973 x^{3} - 0.0639160871326408 x^{2} + 1.38048196118199 x + 0.0635708584715591$"
            ],
            "text/plain": [
              "                   5                       4                      3           \n",
              "0.054608309216589⋅x  + 0.0043623874523217⋅x  - 0.320974346473973⋅x  - 0.063916\n",
              "\n",
              "            2                                          \n",
              "0871326408⋅x  + 1.38048196118199⋅x + 0.0635708584715591"
            ]
          },
          "execution_count": 8,
          "metadata": {},
          "output_type": "execute_result"
        }
      ],
      "source": [
        "# Get Latex equation\n",
        "import sympy as sp\n",
        "from sympy.abc import x\n",
        "sp.init_printing()\n",
        "print(sp.Poly(np.poly1d(coefs).coef,x).as_expr())\n",
        "sp.Poly(np.poly1d(coefs).coef,x).as_expr()"
      ]
    }
  ],
  "metadata": {
    "colab": {
      "provenance": []
    },
    "kernelspec": {
      "display_name": "Python 3",
      "name": "python3"
    },
    "language_info": {
      "codemirror_mode": {
        "name": "ipython",
        "version": 3
      },
      "file_extension": ".py",
      "mimetype": "text/x-python",
      "name": "python",
      "nbconvert_exporter": "python",
      "pygments_lexer": "ipython3",
      "version": "3.10.12"
    }
  },
  "nbformat": 4,
  "nbformat_minor": 0
}
